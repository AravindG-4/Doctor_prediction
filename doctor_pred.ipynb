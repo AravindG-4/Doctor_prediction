{
 "cells": [
  {
   "cell_type": "code",
   "execution_count": 1,
   "metadata": {},
   "outputs": [],
   "source": [
    "import pandas as pd\n",
    "import pickle\n",
    "import numpy as np\n",
    "import sklearn\n",
    "from sklearn.linear_model import LogisticRegression"
   ]
  },
  {
   "cell_type": "code",
   "execution_count": 2,
   "metadata": {},
   "outputs": [],
   "source": [
    "df = pd.read_csv('Testing.csv')\n",
    "columns = list(df.columns)"
   ]
  },
  {
   "cell_type": "code",
   "execution_count": 3,
   "metadata": {},
   "outputs": [
    {
     "data": {
      "text/plain": [
       "['continuous_sneezing',\n",
       " 'chills',\n",
       " 'fatigue',\n",
       " 'cough',\n",
       " 'high_fever',\n",
       " 'headache',\n",
       " 'swelled_lymph_nodes',\n",
       " 'malaise',\n",
       " 'phlegm',\n",
       " 'throat_irritation',\n",
       " 'redness_of_eyes',\n",
       " 'sinus_pressure',\n",
       " 'runny_nose',\n",
       " 'congestion',\n",
       " 'chest_pain',\n",
       " 'loss_of_smell',\n",
       " 'muscle_pain']"
      ]
     },
     "execution_count": 3,
     "metadata": {},
     "output_type": "execute_result"
    }
   ],
   "source": [
    "common_cold = list(df.columns[df.iloc[26] == 1])\n",
    "common_cold"
   ]
  },
  {
   "cell_type": "code",
   "execution_count": 4,
   "metadata": {},
   "outputs": [
    {
     "data": {
      "text/plain": [
       "['itching',\n",
       " 'skin_rash',\n",
       " 'nodal_skin_eruptions',\n",
       " 'continuous_sneezing',\n",
       " 'shivering',\n",
       " 'chills',\n",
       " 'joint_pain',\n",
       " 'stomach_pain',\n",
       " 'acidity',\n",
       " 'ulcers_on_tongue',\n",
       " 'muscle_wasting',\n",
       " 'vomiting',\n",
       " 'burning_micturition',\n",
       " 'spotting_ urination',\n",
       " 'fatigue',\n",
       " 'weight_gain',\n",
       " 'anxiety',\n",
       " 'cold_hands_and_feets',\n",
       " 'mood_swings',\n",
       " 'weight_loss',\n",
       " 'restlessness',\n",
       " 'lethargy',\n",
       " 'patches_in_throat',\n",
       " 'irregular_sugar_level',\n",
       " 'cough',\n",
       " 'high_fever',\n",
       " 'sunken_eyes',\n",
       " 'breathlessness',\n",
       " 'sweating',\n",
       " 'dehydration',\n",
       " 'indigestion',\n",
       " 'headache',\n",
       " 'yellowish_skin',\n",
       " 'dark_urine',\n",
       " 'nausea',\n",
       " 'loss_of_appetite',\n",
       " 'pain_behind_the_eyes',\n",
       " 'back_pain',\n",
       " 'constipation',\n",
       " 'abdominal_pain',\n",
       " 'diarrhoea',\n",
       " 'mild_fever',\n",
       " 'yellow_urine',\n",
       " 'yellowing_of_eyes',\n",
       " 'acute_liver_failure',\n",
       " 'fluid_overload',\n",
       " 'swelling_of_stomach',\n",
       " 'swelled_lymph_nodes',\n",
       " 'malaise',\n",
       " 'blurred_and_distorted_vision',\n",
       " 'phlegm',\n",
       " 'throat_irritation',\n",
       " 'redness_of_eyes',\n",
       " 'sinus_pressure',\n",
       " 'runny_nose',\n",
       " 'congestion',\n",
       " 'chest_pain',\n",
       " 'weakness_in_limbs',\n",
       " 'fast_heart_rate',\n",
       " 'pain_during_bowel_movements',\n",
       " 'pain_in_anal_region',\n",
       " 'bloody_stool',\n",
       " 'irritation_in_anus',\n",
       " 'neck_pain',\n",
       " 'dizziness',\n",
       " 'cramps',\n",
       " 'bruising',\n",
       " 'obesity',\n",
       " 'swollen_legs',\n",
       " 'swollen_blood_vessels',\n",
       " 'puffy_face_and_eyes',\n",
       " 'enlarged_thyroid',\n",
       " 'brittle_nails',\n",
       " 'swollen_extremeties',\n",
       " 'excessive_hunger',\n",
       " 'extra_marital_contacts',\n",
       " 'drying_and_tingling_lips',\n",
       " 'slurred_speech',\n",
       " 'knee_pain',\n",
       " 'hip_joint_pain',\n",
       " 'muscle_weakness',\n",
       " 'stiff_neck',\n",
       " 'swelling_joints',\n",
       " 'movement_stiffness',\n",
       " 'spinning_movements',\n",
       " 'loss_of_balance',\n",
       " 'unsteadiness',\n",
       " 'weakness_of_one_body_side',\n",
       " 'loss_of_smell',\n",
       " 'bladder_discomfort',\n",
       " 'foul_smell_of urine',\n",
       " 'continuous_feel_of_urine',\n",
       " 'passage_of_gases',\n",
       " 'internal_itching',\n",
       " 'toxic_look_(typhos)',\n",
       " 'depression',\n",
       " 'irritability',\n",
       " 'muscle_pain',\n",
       " 'altered_sensorium',\n",
       " 'red_spots_over_body',\n",
       " 'belly_pain',\n",
       " 'abnormal_menstruation',\n",
       " 'dischromic _patches',\n",
       " 'watering_from_eyes',\n",
       " 'increased_appetite',\n",
       " 'polyuria',\n",
       " 'family_history',\n",
       " 'mucoid_sputum',\n",
       " 'rusty_sputum',\n",
       " 'lack_of_concentration',\n",
       " 'visual_disturbances',\n",
       " 'receiving_blood_transfusion',\n",
       " 'receiving_unsterile_injections',\n",
       " 'coma',\n",
       " 'stomach_bleeding',\n",
       " 'distention_of_abdomen',\n",
       " 'history_of_alcohol_consumption',\n",
       " 'fluid_overload.1',\n",
       " 'blood_in_sputum',\n",
       " 'prominent_veins_on_calf',\n",
       " 'palpitations',\n",
       " 'painful_walking',\n",
       " 'pus_filled_pimples',\n",
       " 'blackheads',\n",
       " 'scurring',\n",
       " 'skin_peeling',\n",
       " 'silver_like_dusting',\n",
       " 'small_dents_in_nails',\n",
       " 'inflammatory_nails',\n",
       " 'blister',\n",
       " 'red_sore_around_nose',\n",
       " 'yellow_crust_ooze',\n",
       " 'prognosis']"
      ]
     },
     "execution_count": 4,
     "metadata": {},
     "output_type": "execute_result"
    }
   ],
   "source": [
    "columns"
   ]
  },
  {
   "cell_type": "code",
   "execution_count": 5,
   "metadata": {},
   "outputs": [],
   "source": [
    "with open('logistic_regression_model.pkl', 'rb') as f:\n",
    "    model = pickle.load(f)"
   ]
  },
  {
   "cell_type": "code",
   "execution_count": 6,
   "metadata": {},
   "outputs": [],
   "source": [
    "symptoms = ['continuous_sneezing',\n",
    " 'chills',\n",
    " 'fatigue',\n",
    " 'cough',\n",
    " 'high_fever',\n",
    " 'headache',\n",
    " 'swelled_lymph_nodes',\n",
    " 'malaise',\n",
    " 'phlegm',\n",
    " 'throat_irritation',\n",
    " 'redness_of_eyes',\n",
    " 'sinus_pressure',\n",
    " 'runny_nose',\n",
    " 'congestion',\n",
    " 'chest_pain',\n",
    " 'loss_of_smell',\n",
    " 'muscle_pain']"
   ]
  },
  {
   "cell_type": "code",
   "execution_count": 7,
   "metadata": {},
   "outputs": [
    {
     "data": {
      "text/plain": [
       "41"
      ]
     },
     "execution_count": 7,
     "metadata": {},
     "output_type": "execute_result"
    }
   ],
   "source": [
    "columns.index('mild_fever')"
   ]
  },
  {
   "cell_type": "code",
   "execution_count": 8,
   "metadata": {},
   "outputs": [],
   "source": [
    "z=[0, 0, 0, 0, 0, 0, 0, 0, 0, 0, 0, 0, 0, 0, 0, 0, 0, 0, 0, 0, 0, 0, 0, 0, 0, 0, 0, 0, 0, 0,\n",
    "   0, 0, 0, 0, 0, 0, 0, 0, 0, 0, 0, 0, 0, 0, 0, 0, 0, 0, 0, 0, 0, 0, 0, 0, 0, 0, 0, 0, 0, 0,\n",
    "   0, 0, 0, 0, 0, 0, 0, 0, 0, 0, 0, 0, 0, 0, 0, 0, 0, 0, 0, 0, 0, 0, 0, 0, 0, 0, 0, 0, 0, 0,\n",
    "   0, 0, 0, 0, 0, 0, 0, 0, 0, 0, 0, 0, 0, 0, 0, 0, 0, 0, 0, 0, 0, 0, 0, 0, 0, 0, 0, 0, 0, 0, \n",
    "   0, 0, 0, 0, 0, 0, 0, 0, 0, 0, 0, 0]  #132 features"
   ]
  },
  {
   "cell_type": "code",
   "execution_count": 9,
   "metadata": {},
   "outputs": [
    {
     "name": "stdout",
     "output_type": "stream",
     "text": [
      "continuous_sneezing\n",
      "chills\n",
      "fatigue\n",
      "cough\n",
      "high_fever\n",
      "headache\n",
      "swelled_lymph_nodes\n",
      "malaise\n",
      "phlegm\n",
      "throat_irritation\n",
      "redness_of_eyes\n",
      "sinus_pressure\n",
      "runny_nose\n",
      "congestion\n",
      "chest_pain\n",
      "loss_of_smell\n",
      "muscle_pain\n"
     ]
    }
   ],
   "source": [
    "for symptom in symptoms:\n",
    "     index = columns.index(symptom)\n",
    "     print(columns[index])\n",
    "     z[index] = 1"
   ]
  },
  {
   "cell_type": "code",
   "execution_count": 10,
   "metadata": {},
   "outputs": [
    {
     "name": "stdout",
     "output_type": "stream",
     "text": [
      "continuous_sneezing\n",
      "chills\n",
      "fatigue\n",
      "cough\n",
      "high_fever\n",
      "headache\n",
      "swelled_lymph_nodes\n",
      "malaise\n",
      "phlegm\n",
      "throat_irritation\n",
      "redness_of_eyes\n",
      "sinus_pressure\n",
      "runny_nose\n",
      "congestion\n",
      "chest_pain\n",
      "loss_of_smell\n",
      "muscle_pain\n"
     ]
    }
   ],
   "source": [
    "for i in range(len(z)):\n",
    "    if z[i] == 1:\n",
    "        print(columns[i])"
   ]
  },
  {
   "cell_type": "code",
   "execution_count": 11,
   "metadata": {},
   "outputs": [],
   "source": [
    "from rake_nltk import Rake\n",
    "r = Rake()"
   ]
  },
  {
   "cell_type": "code",
   "execution_count": 12,
   "metadata": {},
   "outputs": [
    {
     "name": "stdout",
     "output_type": "stream",
     "text": [
      "[[3.98562260e-05 1.55105974e-04 4.84026939e-05 2.65097888e-05\n",
      "  6.60720094e-04 5.06210393e-05 3.55036695e-04 3.13409066e-05\n",
      "  4.70231804e-04 2.83356444e-06 9.92978082e-01 3.92354755e-04\n",
      "  5.36325893e-05 5.23857973e-05 2.83942894e-05 3.50641818e-05\n",
      "  2.76139709e-04 1.90630105e-05 1.52207859e-05 6.84338435e-05\n",
      "  6.52414712e-05 5.75470950e-06 3.56450366e-05 4.79459625e-04\n",
      "  3.38731373e-05 5.15895309e-05 4.42372769e-05 9.36072612e-05\n",
      "  1.01760680e-04 5.88566727e-04 6.90744255e-05 4.67511387e-05\n",
      "  1.12312077e-04 2.34497958e-05 1.26327304e-03 3.84870657e-05\n",
      "  7.65792279e-04 2.41281438e-04 6.20188817e-05 9.54410682e-05\n",
      "  2.29532718e-05]]\n",
      "['Common Cold']\n",
      "Maximum confidence: 0.9929780823164981\n"
     ]
    },
    {
     "name": "stderr",
     "output_type": "stream",
     "text": [
      "C:\\Users\\Saran\\AppData\\Local\\Packages\\PythonSoftwareFoundation.Python.3.11_qbz5n2kfra8p0\\LocalCache\\local-packages\\Python311\\site-packages\\sklearn\\base.py:439: UserWarning: X does not have valid feature names, but LogisticRegression was fitted with feature names\n",
      "  warnings.warn(\n",
      "C:\\Users\\Saran\\AppData\\Local\\Packages\\PythonSoftwareFoundation.Python.3.11_qbz5n2kfra8p0\\LocalCache\\local-packages\\Python311\\site-packages\\sklearn\\base.py:439: UserWarning: X does not have valid feature names, but LogisticRegression was fitted with feature names\n",
      "  warnings.warn(\n"
     ]
    }
   ],
   "source": [
    "logreg = LogisticRegression()\n",
    "\n",
    "# Reshape the input data to match the number of features\n",
    "z_reshaped = np.array(z).reshape(1, -1)  # Reshape z to have the same number of features as the training data\n",
    "\n",
    "logreg_confidence = model.predict_proba(z_reshaped)\n",
    "print(logreg_confidence)\n",
    "logreg_pred = model.predict(z_reshaped)\n",
    "print(logreg_pred)\n",
    "max_confidence = max(logreg_confidence[0])\n",
    "print(\"Maximum confidence:\", max_confidence)"
   ]
  },
  {
   "cell_type": "code",
   "execution_count": 13,
   "metadata": {},
   "outputs": [
    {
     "name": "stdout",
     "output_type": "stream",
     "text": [
      "{'Fungal infection': 'Dermatologist', 'Allergy': 'Allergist', 'GERD': 'Gastroenterologist', 'Chronic cholestasis': 'Hepatologist', 'Drug Reaction': 'Allergist', 'Peptic ulcer diseae': 'Gastroenterologist', 'AIDS': 'Osteopathic', 'Diabetes ': 'Endocrinologist', 'Gastroenteritis': 'Gastroenterologist', 'Bronchial Asthma': 'Pulmonologist', 'Hypertension ': 'Cardiologist', 'Migraine': 'Neurologist', 'Cervical spondylosis': 'Neurologist', 'Paralysis (brain hemorrhage)': 'Neurologist', 'Jaundice': 'Gastroenterologist', 'Malaria': 'Internal Medcine', 'Chicken pox': 'Dermatologist', 'Dengue': 'Internal Medcine', 'Typhoid': 'Pediatrician', 'hepatitis A': 'Hepatologist', 'Hepatitis B': 'hepatologist', 'Hepatitis C': 'Hepatologist', 'Hepatitis D': 'Hepatologist', 'Hepatitis E': 'Hepatologist', 'Alcoholic hepatitis': 'Hepatologist', 'Tuberculosis': 'Pulmonologist', 'Common Cold': 'General Doctor', 'Pneumonia': 'Pulmonologist', 'Dimorphic hemmorhoids(piles)': 'Gastroenterologistï¿½', 'Heart attack': 'Cardiologist', 'Varicose veins': 'Phlebologist', 'Hypothyroidism': 'Endocrinologist', 'Hyperthyroidism': 'Endocrinologist', 'Hypoglycemia': 'Endocrinologist', 'Osteoarthristis': 'Rheumatologists', 'Arthritis': 'Rheumatologists', '(vertigo) Paroymsal  Positional Vertigo': 'Otolaryngologist', 'Acne': 'Dermatologist', 'Urinary tract infection': 'Gynecologist', 'Psoriasis': 'Dermatologist', 'Impetigo': 'Dermatologist'}\n"
     ]
    }
   ],
   "source": [
    "\n",
    "csv1 = pd.read_csv(\"Testing.csv\", encoding='latin1')\n",
    "csv2 = pd.read_csv(\"Doctor_Versus_Disease.csv\", header=None, encoding='latin1')  # Assuming CSV2 has no column names\n",
    "\n",
    "# Rename columns in csv2\n",
    "csv2.columns = ['Column1', 'Column2']\n",
    "\n",
    "# Create a dictionary to store the matches\n",
    "doc_dict = {}\n",
    "\n",
    "# Iterate through each row in CSV1\n",
    "for index, row in csv1.iterrows():\n",
    "    prognosis_value = row['prognosis']\n",
    "    \n",
    "    # Find rows in CSV2 where Column1 matches the \"prognosis\" value\n",
    "    matching_rows = csv2[csv2['Column1'] == prognosis_value].iloc[0]\n",
    "    \n",
    "    # Get the values in Column2 for the matching rows\n",
    "    match_values = matching_rows['Column2']\n",
    "    \n",
    "    # Store the match values in the dictionary\n",
    "    doc_dict[prognosis_value] = match_values\n",
    "\n",
    "# Print the resulting dictionary\n",
    "print(doc_dict)\n"
   ]
  },
  {
   "cell_type": "code",
   "execution_count": 14,
   "metadata": {},
   "outputs": [
    {
     "data": {
      "text/plain": [
       "'General Doctor'"
      ]
     },
     "execution_count": 14,
     "metadata": {},
     "output_type": "execute_result"
    }
   ],
   "source": [
    "doc_dict[logreg_pred[0]]"
   ]
  },
  {
   "cell_type": "code",
   "execution_count": null,
   "metadata": {},
   "outputs": [],
   "source": []
  }
 ],
 "metadata": {
  "kernelspec": {
   "display_name": "Python 3",
   "language": "python",
   "name": "python3"
  },
  "language_info": {
   "codemirror_mode": {
    "name": "ipython",
    "version": 3
   },
   "file_extension": ".py",
   "mimetype": "text/x-python",
   "name": "python",
   "nbconvert_exporter": "python",
   "pygments_lexer": "ipython3",
   "version": "3.11.6"
  },
  "orig_nbformat": 4
 },
 "nbformat": 4,
 "nbformat_minor": 2
}
